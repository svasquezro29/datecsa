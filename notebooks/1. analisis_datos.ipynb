{
 "cells": [
  {
   "cell_type": "markdown",
   "metadata": {},
   "source": [
    "## 1.\tAnálisis de Datos\n",
    "\n",
    "### 1.1. Limpieza y preparación de datos  \n",
    "Tienes un conjunto de datos con las siguientes columnas:\n",
    "- ID_cliente\n",
    "- Nombre\n",
    "- Fecha_de_compra\n",
    "- Monto_compra\n",
    "- Producto\n",
    "\n",
    "Al analizar el dataset, detectas valores nulos, duplicados y algunos registros donde el formato de las fechas no es consistente.\n",
    "Instrucciones:\n",
    "Describe el proceso que seguirías para limpiar estos datos utilizando Python o R.\n",
    "Implementa una función en el lenguaje de tu preferencia que realice las siguientes acciones:\n",
    "- Eliminar duplicados.\n",
    "- Corregir el formato de la columna de fecha.\n",
    "- Eliminar los registros con valores nulos en Monto_compra.\n"
   ]
  },
  {
   "cell_type": "markdown",
   "metadata": {},
   "source": [
    "En el caso particular donde se evidencias valores nulos, duplicados y errores en el formato de la fecha antes de proceder a corregir esto se debe validar con el equipo de negocio si las inconsistencias presentadas en el dataset tienen algun tipo de explicación desde los datos. Por ejemplo, puede ser normal que el nombre del usuario puede estar repetido dado que el usuario pudo haber realizado varias compras en el pasado, con lo cual no es recomendable ni pertinente borrar este registro. Para este tipo de escenarios podria ser recomendable crear una llave unica que sea la concatenación de id_cliente + nombre, dado que son identificadores unicos y en este caso se subsana que el nombre del usuario aparezca varias veces. Así mismo, validar que no hayan valores nulos dentro del monto_compra debido a que esto puede reflejar algun error al momento de la obtención de los datos desde la fuente primaria. "
   ]
  },
  {
   "cell_type": "code",
   "execution_count": 11,
   "metadata": {},
   "outputs": [],
   "source": [
    "import pandas as pd\n",
    "import numpy as np\n",
    "import matplotlib.pyplot as plt\n",
    "import seaborn as sns\n",
    "sns.set_theme()\n",
    "import sys \n",
    "import os\n",
    "\n",
    "sys.path.append(os.path.abspath(\"..\"))\n",
    "\n",
    "from src.utils.validation_clean_data import validation_clean_data "
   ]
  },
  {
   "cell_type": "code",
   "execution_count": 4,
   "metadata": {},
   "outputs": [],
   "source": [
    "data  = {'id_ciente': ['16272','16262', '16274','14252','16342']\n",
    "         ,'nombre': ['Juan', 'luis','Maria','Luz', 'Luisa']\n",
    "         ,'fecha_compra': ['2025-12-05', '2025-11-21', '2025-09-15','2025-10-11','2025/11/11']\n",
    "         ,'monto_compra': [20200, None, 15699, 10001, 10001]\n",
    "         ,'producto': ['XB1', 'XB1', 'XB2', 'XB3','XB']\n",
    "         }\n",
    "data = pd.DataFrame(data=data)"
   ]
  },
  {
   "cell_type": "code",
   "execution_count": 5,
   "metadata": {},
   "outputs": [
    {
     "name": "stdout",
     "output_type": "stream",
     "text": [
      "{'duplicados_en_columnas_eliminados': {'monto_compra': 1, 'producto': 1}, 'filas_duplicadas_eliminadas': 0, 'valores_nulos_eliminados': 3, 'errores_formato_fecha': {}}\n"
     ]
    },
    {
     "data": {
      "text/html": [
       "<div>\n",
       "<style scoped>\n",
       "    .dataframe tbody tr th:only-of-type {\n",
       "        vertical-align: middle;\n",
       "    }\n",
       "\n",
       "    .dataframe tbody tr th {\n",
       "        vertical-align: top;\n",
       "    }\n",
       "\n",
       "    .dataframe thead th {\n",
       "        text-align: right;\n",
       "    }\n",
       "</style>\n",
       "<table border=\"1\" class=\"dataframe\">\n",
       "  <thead>\n",
       "    <tr style=\"text-align: right;\">\n",
       "      <th></th>\n",
       "      <th>id_ciente</th>\n",
       "      <th>nombre</th>\n",
       "      <th>fecha_compra</th>\n",
       "      <th>monto_compra</th>\n",
       "      <th>producto</th>\n",
       "    </tr>\n",
       "  </thead>\n",
       "  <tbody>\n",
       "    <tr>\n",
       "      <th>0</th>\n",
       "      <td>16272</td>\n",
       "      <td>Juan</td>\n",
       "      <td>2025-12-05</td>\n",
       "      <td>20200.0</td>\n",
       "      <td>XB1</td>\n",
       "    </tr>\n",
       "    <tr>\n",
       "      <th>2</th>\n",
       "      <td>16274</td>\n",
       "      <td>Maria</td>\n",
       "      <td>2025-09-15</td>\n",
       "      <td>15699.0</td>\n",
       "      <td>XB2</td>\n",
       "    </tr>\n",
       "    <tr>\n",
       "      <th>3</th>\n",
       "      <td>14252</td>\n",
       "      <td>Luz</td>\n",
       "      <td>2025-10-11</td>\n",
       "      <td>10001.0</td>\n",
       "      <td>XB3</td>\n",
       "    </tr>\n",
       "  </tbody>\n",
       "</table>\n",
       "</div>"
      ],
      "text/plain": [
       "  id_ciente nombre fecha_compra  monto_compra producto\n",
       "0     16272   Juan   2025-12-05       20200.0      XB1\n",
       "2     16274  Maria   2025-09-15       15699.0      XB2\n",
       "3     14252    Luz   2025-10-11       10001.0      XB3"
      ]
     },
     "execution_count": 5,
     "metadata": {},
     "output_type": "execute_result"
    }
   ],
   "source": [
    "df_limpio, resumen = validation_clean_data(data, column_date=['fecha_compra'], format_date='%Y-%m-%d')\n",
    "print(resumen)\n",
    "df_limpio"
   ]
  },
  {
   "cell_type": "markdown",
   "metadata": {},
   "source": [
    "## 1.2. Análisis descriptivo de datos \n",
    "Tienes los siguientes datos de ventas:\n",
    "- Ventas_por_mes: [200, 150, 180, 220, 210, 190, 230, 220, 240, 230, 210, 250]\n",
    "Instrucciones:\n",
    "    - Calcula el promedio, la mediana y la desviación estándar de las ventas.\n",
    "    - Realiza una visualización en la que compares las ventas mensuales con el promedio general.\n"
   ]
  },
  {
   "cell_type": "code",
   "execution_count": 8,
   "metadata": {},
   "outputs": [],
   "source": [
    "ventas = {'ventas_mes': [200, 150, 180, 220, 210, 190, 230, 220, 240, 230, 210, 250]\n",
    "          ,\"mes\": ['Ene', 'Feb', 'Mar', 'Abr', 'May', 'Jun', 'Jul', 'Ago', 'Sep', 'Oct', 'Nov', 'Dic']}\n",
    "ventas = pd.DataFrame(ventas)"
   ]
  },
  {
   "cell_type": "code",
   "execution_count": 7,
   "metadata": {},
   "outputs": [
    {
     "name": "stdout",
     "output_type": "stream",
     "text": [
      "Promedio en ventas: 210.833 \n",
      " Mediana en ventas: 215.000 \n",
      " Desviación estándar en ventas: 26.601\n"
     ]
    },
    {
     "name": "stderr",
     "output_type": "stream",
     "text": [
      "/Users/santiagovasquezr/Documents/datecsa/.venv/lib/python3.13/site-packages/numpy/_core/fromnumeric.py:4061: FutureWarning: The behavior of DataFrame.std with axis=None is deprecated, in a future version this will reduce over both axes and return a scalar. To retain the old behavior, pass axis=0 (or do not pass axis)\n",
      "  return std(axis=axis, dtype=dtype, out=out, ddof=ddof, **kwargs)\n"
     ]
    }
   ],
   "source": [
    "print(f\"Promedio en ventas: {np.mean(ventas).item():.3f} \\n \"\n",
    "      f\"Mediana en ventas: {np.median(ventas).item():.3f} \\n \"\n",
    "      f\"Desviación estándar en ventas: {np.std(ventas).item():.3f}\"\n",
    ")"
   ]
  },
  {
   "cell_type": "code",
   "execution_count": 15,
   "metadata": {},
   "outputs": [
    {
     "data": {
      "image/png": "[encoded data removed]",
      "text/plain": [
       "<Figure size 1000x500 with 1 Axes>"
      ]
     },
     "metadata": {},
     "output_type": "display_data"
    }
   ],
   "source": [
    "# Calcular promedio general\n",
    "promedio_general = ventas['ventas_mes'].mean()\n",
    "\n",
    "# Visualización\n",
    "plt.figure(figsize=(10,5))\n",
    "sns.barplot(data=ventas, x='mes', y='ventas_mes', color='skyblue')\n",
    "plt.axhline(promedio_general, color='red', linestyle='--', label=f'Promedio: {promedio_general:.2f}')\n",
    "plt.title('Ventas vs Promedio General')\n",
    "plt.xlabel('Mes')\n",
    "plt.ylabel('Ventas')\n",
    "plt.legend()\n",
    "plt.tight_layout()\n",
    "plt.show()"
   ]
  }
 ],
 "metadata": {
  "kernelspec": {
   "display_name": ".venv",
   "language": "python",
   "name": "python3"
  },
  "language_info": {
   "codemirror_mode": {
    "name": "ipython",
    "version": 3
   },
   "file_extension": ".py",
   "mimetype": "text/x-python",
   "name": "python",
   "nbconvert_exporter": "python",
   "pygments_lexer": "ipython3",
   "version": "3.13.1"
  }
 },
 "nbformat": 4,
 "nbformat_minor": 2
}
